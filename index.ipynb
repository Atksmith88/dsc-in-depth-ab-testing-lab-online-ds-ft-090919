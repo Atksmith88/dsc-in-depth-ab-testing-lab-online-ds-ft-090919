{
 "cells": [
  {
   "cell_type": "markdown",
   "metadata": {},
   "source": [
    "# In Depth A/B Testing - Lab\n",
    "\n",
    "## Introduction\n",
    "\n",
    "In this lab, you'll explore a survey from Kaggle regarding budding data scientists. With this, you'll form some initial hypotheses, and test them using the tools you've acquired to date. \n",
    "\n",
    "## Objectives\n",
    "\n",
    "You will be able to:\n",
    "* Conduct statistical tests on a real-world dataset"
   ]
  },
  {
   "cell_type": "markdown",
   "metadata": {},
   "source": [
    "## Load the Dataset and Perform a Brief Exploration\n",
    "\n",
    "The data is stored in a file called **multipleChoiceResponses_cleaned.csv**. Feel free to check out the original dataset referenced at the bottom of this lab, although this cleaned version will undoubtedly be easier to work with. Additionally, meta-data regarding the questions is stored in a file name **schema.csv**. Load in the data itself as a Pandas DataFrame, and take a moment to briefly get acquainted with it.\n",
    "\n",
    "> Note: If you can't get the file to load properly, try changing the encoding format as in `encoding='latin1'`"
   ]
  },
  {
   "cell_type": "code",
   "execution_count": 6,
   "metadata": {},
   "outputs": [
    {
     "name": "stdout",
     "output_type": "stream",
     "text": [
      "<class 'pandas.core.frame.DataFrame'>\n",
      "RangeIndex: 26394 entries, 0 to 26393\n",
      "Columns: 230 entries, GenderSelect to AdjustedCompensation\n",
      "dtypes: float64(15), object(215)\n",
      "memory usage: 46.3+ MB\n"
     ]
    }
   ],
   "source": [
    "import warnings; warnings.simplefilter('ignore')\n",
    "import pandas as pd\n",
    "import numpy as np\n",
    "import statsmodels.api as sm\n",
    "import statsmodels.stats.api as sms\n",
    "import statsmodels.formula.api as smf\n",
    "import matplotlib.pyplot as plt\n",
    "import seaborn as sns\n",
    "import scipy.stats as stats\n",
    "plt.style.use('ggplot')\n",
    "\n",
    "df = pd.read_csv('multipleChoiceResponses_cleaned.csv', encoding = 'latin1')\n",
    "df.head()\n",
    "df.info()"
   ]
  },
  {
   "cell_type": "markdown",
   "metadata": {},
   "source": [
    "## Wages and Education\n",
    "\n",
    "You've been asked to determine whether education is impactful to salary. Develop a hypothesis test to compare the salaries of those with Master's degrees to those with Bachelor's degrees. Are the two statistically different according to your results?\n",
    "\n",
    "> Note: The relevant features are stored in the 'FormalEducation' and 'AdjustedCompensation' features."
   ]
  },
  {
   "cell_type": "code",
   "execution_count": 13,
   "metadata": {},
   "outputs": [],
   "source": [
    "import flatiron_stats as fs"
   ]
  },
  {
   "cell_type": "code",
   "execution_count": 7,
   "metadata": {},
   "outputs": [],
   "source": [
    "edu = 'FormalEducation'\n",
    "sal = 'AdjustedCompensation'\n",
    "edu_g1 = \"Master's degree\"\n",
    "edu_g2 = \"Bachelor's degree\"\n",
    "subset = df[(~df[edu].isnull()) & (~df[sal].isnull())]\n",
    "s1 = subset[subset[edu]==edu_g1][sal]\n",
    "s2 = subset[subset[edu]==edu_g2][sal]"
   ]
  },
  {
   "cell_type": "code",
   "execution_count": 8,
   "metadata": {},
   "outputs": [
    {
     "data": {
      "text/plain": [
       "<matplotlib.axes._subplots.AxesSubplot at 0x17ec5cafb00>"
      ]
     },
     "execution_count": 8,
     "metadata": {},
     "output_type": "execute_result"
    },
    {
     "data": {
      "image/png": "[encoded data removed]",
      "text/plain": [
       "<Figure size 432x288 with 1 Axes>"
      ]
     },
     "metadata": {},
     "output_type": "display_data"
    }
   ],
   "source": [
    "sns.distplot(s1)\n",
    "sns.distplot(s2)"
   ]
  },
  {
   "cell_type": "code",
   "execution_count": 15,
   "metadata": {},
   "outputs": [
    {
     "name": "stdout",
     "output_type": "stream",
     "text": [
      "Comparison of AdjustedCompensation for Master's degree and Bachelor's degree\n",
      "Median Values: \ts1: 53812.17 \ts2: 38399.4\n",
      "Mean Values: \ts1: 69139.9 \ts2: 64887.1\n",
      "Sample sizes: \ts1: 1990 \ts2: 1107\n",
      "Welch's t-test p-value: 0.33077639451272445\n"
     ]
    }
   ],
   "source": [
    "print('Comparison of {} for {} and {}'.format(sal, edu_g1, edu_g2))\n",
    "print(\"Median Values: \\ts1: {} \\ts2: {}\".format(round(s1.median(),2), round(s2.median(),2)))\n",
    "print(\"Mean Values: \\ts1: {} \\ts2: {}\".format(round(s1.mean(),2), round(s2.mean(),2)))\n",
    "print('Sample sizes: \\ts1: {} \\ts2: {}'.format(len(s1), len(s2)))\n",
    "print(\"Welch's t-test p-value:\", fs.p_value_welch_ttest(s1, s2))"
   ]
  },
  {
   "cell_type": "code",
   "execution_count": 16,
   "metadata": {},
   "outputs": [
    {
     "name": "stdout",
     "output_type": "stream",
     "text": [
      "0.8th percentile:\tset1: 103000.0\tset2: 93233.13\n",
      "0.81th percentile:\tset1: 107009.0\tset2: 95572.83\n",
      "0.82th percentile:\tset1: 110000.0\tset2: 99276.38\n",
      "0.83th percentile:\tset1: 111503.83\tset2: 100000.0\n",
      "0.84th percentile:\tset1: 115240.4\tset2: 103040.0\n",
      "0.85th percentile:\tset1: 119582.6\tset2: 105935.04\n",
      "0.86th percentile:\tset1: 120000.0\tset2: 110000.0\n",
      "0.87th percentile:\tset1: 124719.88\tset2: 112000.0\n",
      "0.88th percentile:\tset1: 129421.46\tset2: 115000.0\n",
      "0.89th percentile:\tset1: 130000.0\tset2: 120000.0\n",
      "0.9th percentile:\tset1: 135000.0\tset2: 120346.5\n",
      "0.91th percentile:\tset1: 140000.0\tset2: 126460.0\n",
      "0.92th percentile:\tset1: 149640.0\tset2: 132615.4\n",
      "0.93th percentile:\tset1: 150000.0\tset2: 140000.0\n",
      "0.94th percentile:\tset1: 160000.0\tset2: 143408.8\n",
      "0.95th percentile:\tset1: 166778.6\tset2: 150000.0\n",
      "0.96th percentile:\tset1: 180000.0\tset2: 179849.74\n",
      "0.97th percentile:\tset1: 200000.0\tset2: 195000.0\n",
      "0.98th percentile:\tset1: 211100.0\tset2: 200000.0\n",
      "0.99th percentile:\tset1: 250000.0\tset2: 250000.0\n",
      "1.0th percentile:\tset1: 4498900.0\tset2: 9999999.0\n"
     ]
    }
   ],
   "source": [
    "for q in np.linspace(.8, 1, num=21):\n",
    "    s1q =  round(s1.quantile(q=q), 2)\n",
    "    s2q =  round(s2.quantile(q=q), 2)\n",
    "    print('{}th percentile:\\tset1: {}\\tset2: {}'.format(round(q,2), s1q, s2q))"
   ]
  },
  {
   "cell_type": "code",
   "execution_count": 18,
   "metadata": {},
   "outputs": [
    {
     "name": "stdout",
     "output_type": "stream",
     "text": [
      "Repeated Test with Outliers Removed:\n",
      "S1: Master's degree\tS2: Bachelor's degree\n",
      "Median Values: \ts1: 53539.72 \ts2: 38292.15\n",
      "Mean Values: \ts1: 63976.63 \ts2: 53744.35\n",
      "Sample sizes: \ts1: 1985 \ts2: 1103\n",
      "Welch's t-test p-value with outliers removed: 4.4874583271514723e-07\n"
     ]
    }
   ],
   "source": [
    "print('Repeated Test with Outliers Removed:')\n",
    "print('S1: {}\\tS2: {}'.format(edu_g1, edu_g2))\n",
    "outlier_threshold = 500000\n",
    "s1 = subset[(subset[edu]==edu_g1) & (subset[sal]<=outlier_threshold)][sal]\n",
    "s2 = subset[(subset[edu]==edu_g2) & (subset[sal]<=outlier_threshold)][sal]\n",
    "print(\"Median Values: \\ts1: {} \\ts2: {}\".format(round(s1.median(),2), round(s2.median(),2)))\n",
    "print(\"Mean Values: \\ts1: {} \\ts2: {}\".format(round(s1.mean(),2), round(s2.mean(),2)))\n",
    "print('Sample sizes: \\ts1: {} \\ts2: {}'.format(len(s1), len(s2)))\n",
    "print(\"Welch's t-test p-value with outliers removed:\", fs.p_value_welch_ttest(s1, s2))"
   ]
  },
  {
   "cell_type": "code",
   "execution_count": 22,
   "metadata": {},
   "outputs": [
    {
     "data": {
      "text/plain": [
       "<matplotlib.legend.Legend at 0x17ec9afb7f0>"
      ]
     },
     "execution_count": 22,
     "metadata": {},
     "output_type": "execute_result"
    },
    {
     "data": {
      "image/png": "[encoded data removed]",
      "text/plain": [
       "<Figure size 432x288 with 1 Axes>"
      ]
     },
     "metadata": {},
     "output_type": "display_data"
    }
   ],
   "source": [
    "sns.distplot(s1, label = 's1')\n",
    "sns.distplot(s2)\n",
    "plt.legend()"
   ]
  },
  {
   "cell_type": "markdown",
   "metadata": {},
   "source": [
    "## Wages and Education II\n",
    "\n",
    "Now perform a similar statistical test comparing the AdjustedCompensation of those with Bachelor's degrees and those with Doctorates. If you haven't already, be sure to explore the distribution of the AdjustedCompensation feature for any anomalies. "
   ]
  },
  {
   "cell_type": "code",
   "execution_count": 24,
   "metadata": {},
   "outputs": [
    {
     "name": "stdout",
     "output_type": "stream",
     "text": [
      "Median Values: \n",
      "s1:74131.92 \n",
      "s2:38399.4\n",
      "Sample sizes: \n",
      "s1: 967 \n",
      "s2: 1107\n",
      "Welch's t-test p-value: 0.15682381994720251\n",
      "\n",
      "\n",
      "Repeated Test with Ouliers Removed:\n",
      "Sample sizes: \n",
      "s1: 964 \n",
      "s2: 1103\n",
      "Welch's t-test p-value with outliers removed: 0.0\n"
     ]
    }
   ],
   "source": [
    "edu = 'FormalEducation'\n",
    "sal = 'AdjustedCompensation'\n",
    "subset = df[(~df[edu].isnull()) & (~df[sal].isnull())]\n",
    "s1 = subset[subset[edu]==\"Doctoral degree\"][sal]\n",
    "s2 = subset[subset[edu]==\"Bachelor's degree\"][sal]\n",
    "print(\"Median Values: \\ns1:{} \\ns2:{}\".format(round(s1.median(),2), round(s2.median(),2)))\n",
    "print('Sample sizes: \\ns1: {} \\ns2: {}'.format(len(s1), len(s2)))\n",
    "print(\"Welch's t-test p-value:\", fs.p_value_welch_ttest(s1, s2))\n",
    "\n",
    "print('\\n\\nRepeated Test with Ouliers Removed:')\n",
    "outlier_threshold = 500000\n",
    "s1 = subset[(subset[edu]==\"Doctoral degree\") & (subset[sal]<=outlier_threshold)][sal]\n",
    "s2 = subset[(subset[edu]==\"Bachelor's degree\") & (subset[sal]<=outlier_threshold)][sal]\n",
    "print('Sample sizes: \\ns1: {} \\ns2: {}'.format(len(s1), len(s2)))\n",
    "print(\"Welch's t-test p-value with outliers removed:\", fs.p_value_welch_ttest(s1, s2))"
   ]
  },
  {
   "cell_type": "markdown",
   "metadata": {},
   "source": [
    "## Wages and Education III\n",
    "\n",
    "Remember the multiple comparisons problem; rather than continuing on like this, perform an ANOVA test between the various 'FormalEducation' categories and their relation to 'AdjustedCompensation'."
   ]
  },
  {
   "cell_type": "code",
   "execution_count": 27,
   "metadata": {},
   "outputs": [
    {
     "name": "stdout",
     "output_type": "stream",
     "text": [
      "                          sum_sq      df         F    PR(>F)\n",
      "C(FormalEducation)  6.540294e+17     6.0  0.590714  0.738044\n",
      "Residual            7.999414e+20  4335.0       NaN       NaN\n"
     ]
    }
   ],
   "source": [
    "formula = '{} ~ C({})'.format(sal, edu)\n",
    "lm = smf.ols(formula, df).fit()\n",
    "table = sm.stats.anova_lm(lm, typ=2)\n",
    "print(table)"
   ]
  },
  {
   "cell_type": "code",
   "execution_count": 29,
   "metadata": {},
   "outputs": [
    {
     "name": "stdout",
     "output_type": "stream",
     "text": [
      "                          sum_sq      df          F        PR(>F)\n",
      "C(FormalEducation)  5.841881e+11     6.0  29.224224  1.727132e-34\n",
      "Residual            1.439270e+13  4320.0        NaN           NaN\n"
     ]
    }
   ],
   "source": [
    "temp = df[df[sal]<=5*10**5]\n",
    "formula = '{} ~ C({})'.format(sal, edu)\n",
    "lm = smf.ols(formula, temp).fit()\n",
    "table = sm.stats.anova_lm(lm, typ=2)\n",
    "print(table)"
   ]
  },
  {
   "cell_type": "markdown",
   "metadata": {},
   "source": [
    "## Additional Resources\n",
    "\n",
    "Here's the original source where the data was taken from:  \n",
    "    [Kaggle Machine Learning & Data Science Survey 2017](https://www.kaggle.com/kaggle/kaggle-survey-2017)"
   ]
  },
  {
   "cell_type": "markdown",
   "metadata": {},
   "source": [
    "## Summary\n",
    "\n",
    "In this lab, you practiced conducting actual hypothesis tests on actual data. From this, you saw how dependent results can be on the initial problem formulation, including preprocessing!"
   ]
  }
 ],
 "metadata": {
  "kernelspec": {
   "display_name": "Python 3",
   "language": "python",
   "name": "python3"
  },
  "language_info": {
   "codemirror_mode": {
    "name": "ipython",
    "version": 3
   },
   "file_extension": ".py",
   "mimetype": "text/x-python",
   "name": "python",
   "nbconvert_exporter": "python",
   "pygments_lexer": "ipython3",
   "version": "3.6.6"
  }
 },
 "nbformat": 4,
 "nbformat_minor": 2
}
